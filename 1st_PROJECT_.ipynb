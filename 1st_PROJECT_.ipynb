{
  "nbformat": 4,
  "nbformat_minor": 0,
  "metadata": {
    "colab": {
      "provenance": [],
      "gpuType": "T4"
    },
    "kernelspec": {
      "name": "python3",
      "display_name": "Python 3"
    },
    "language_info": {
      "name": "python"
    },
    "accelerator": "GPU"
  },
  "cells": [
    {
      "cell_type": "code",
      "execution_count": null,
      "metadata": {
        "id": "kdbOTyeETlW0"
      },
      "outputs": [],
      "source": [
        "!pip install torch\n",
        "!pip install diffusers"
      ]
    },
    {
      "cell_type": "code",
      "source": [
        "import torch\n",
        "from PIL import Image\n",
        "\n",
        "import matplotlib.pyplot as plt\n",
        "from diffusers import StableDiffusionPipeline\n",
        "\n",
        "import io\n",
        "import numpy as np"
      ],
      "metadata": {
        "id": "0eKEn5r1T1Wz"
      },
      "execution_count": null,
      "outputs": []
    },
    {
      "cell_type": "code",
      "source": [
        "!pip install accelerate"
      ],
      "metadata": {
        "id": "LuFb95PVT5M4"
      },
      "execution_count": null,
      "outputs": []
    },
    {
      "cell_type": "code",
      "source": [
        "# Initialize Stable Diffusion pipeline\n",
        "modelid = \"CompVis/stable-diffusion-v1-4\"\n",
        "device = \"cuda\"\n",
        "\n",
        "pipe = StableDiffusionPipeline.from_pretrained(modelid, variant='fp16', torch_dtype=torch.float32, safety_checker=None)\n",
        "pipe.to(device)\n",
        "\n",
        "# Function to generate and display image\n",
        "def generate(prompt):\n",
        "\n",
        "    try:\n",
        "        # Generate image using the Stable Diffusion model\n",
        "        output = pipe(prompt, guidance_scale=10)\n",
        "        image_data = output[\"images\"][0]\n",
        "\n",
        "\n",
        "        # Convert image data to bytes-like object\n",
        "        image_bytes = np.array(image_data, dtype=np.uint8)\n",
        "\n",
        "\n",
        "        # Create PIL image from bytes-like object\n",
        "        image = Image.fromarray(image_bytes)\n",
        "\n",
        "\n",
        "        # Display the generated image\n",
        "        plt.su(image)\n",
        "        plt.axis('off')  # hide axis\n",
        "        plt.show()\n",
        "\n",
        "    except Exception as e:\n",
        "        print(f\"An error occurred: {e}\")"
      ],
      "metadata": {
        "id": "zv7HT2yvT9hf"
      },
      "execution_count": null,
      "outputs": []
    },
    {
      "cell_type": "code",
      "source": [
        "    prompt_text = input(\"Enter your prompt: \")\n",
        "    generate(prompt_text)"
      ],
      "metadata": {
        "id": "HrQ0Q3N40AV6"
      },
      "execution_count": null,
      "outputs": []
    }
  ]
}