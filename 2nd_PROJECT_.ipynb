{
  "cells": [
    {
      "cell_type": "code",
      "execution_count": null,
      "metadata": {
        "id": "mlbjww_tUbcg"
      },
      "outputs": [],
      "source": [
        "!pip install diffusers transformers accelerate"
      ]
    },
    {
      "cell_type": "code",
      "execution_count": null,
      "metadata": {
        "id": "fN4ts0IoUoA1"
      },
      "outputs": [],
      "source": [
        "import warnings\n",
        "from diffusers import DiffusionPipeline\n",
        "from PIL import Image\n",
        "from IPython.display import display\n",
        "import numpy as np"
      ]
    },
    {
      "cell_type": "code",
      "execution_count": null,
      "metadata": {
        "id": "HatLkYS3UoD1"
      },
      "outputs": [],
      "source": [
        "# Suppress all UserWarnings\n",
        "warnings.simplefilter(\"ignore\", category=UserWarning)\n",
        "\n",
        "# Initialize DiffusionPipeline objects directly on GPU\n",
        "base = DiffusionPipeline.from_pretrained(\n",
        "    \"stabilityai/stable-diffusion-xl-base-1.0\", use_safetensors=True, device='cuda'\n",
        ")\n",
        "refiner = DiffusionPipeline.from_pretrained(\n",
        "    \"stabilityai/stable-diffusion-xl-refiner-1.0\",\n",
        "    text_encoder_2=base.text_encoder_2,\n",
        "    vae=base.vae,\n",
        "    use_safetensors=True,\n",
        "    device='cuda'\n",
        ")\n",
        "\n",
        "def generate(prompt_text):\n",
        "    n_steps = 40\n",
        "    high_noise_frac = 0.8\n",
        "\n",
        "    # Generate initial image\n",
        "    image_tensor = base(\n",
        "        prompt=prompt_text,\n",
        "        num_inference_steps=n_steps,\n",
        "        denoising_end=high_noise_frac,\n",
        "        output_type=\"latent\",\n",
        "    ).images\n",
        "\n",
        "    # Refine the image\n",
        "    refined_image = refiner(\n",
        "        prompt=prompt_text,\n",
        "        num_inference_steps=n_steps,\n",
        "        denoising_start=high_noise_frac,\n",
        "        image=image_tensor,\n",
        "    ).images[0]  # Get the first image from the list\n",
        "\n",
        "    # Convert PIL Image to numpy array (if needed, but you can display directly)\n",
        "    image_np = np.array(refined_image)\n",
        "\n",
        "    # Display the image\n",
        "    display(refined_image)  # Use refined_image here\n",
        "\n"
      ]
    },
    {
      "cell_type": "code",
      "execution_count": null,
      "metadata": {
        "colab": {
          "background_save": true
        },
        "id": "IuowDEi8U0s4"
      },
      "outputs": [],
      "source": [
        "# User interaction loop\n",
        "while True:\n",
        "    prompt_text = input(\"Enter your prompt (or 'q' to quit): \")\n",
        "    if prompt_text.lower() == 'q':\n",
        "        break\n",
        "    generate(prompt_text)"
      ]
    }
  ],
  "metadata": {
    "accelerator": "GPU",
    "colab": {
      "gpuType": "T4",
      "provenance": []
    },
    "kernelspec": {
      "display_name": "Python 3",
      "name": "python3"
    },
    "language_info": {
      "name": "python"
    }
  },
  "nbformat": 4,
  "nbformat_minor": 0
}